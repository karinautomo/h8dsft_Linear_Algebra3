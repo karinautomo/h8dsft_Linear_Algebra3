{
 "cells": [
  {
   "cell_type": "markdown",
   "metadata": {},
   "source": [
    "# Non Graded Challenge 6"
   ]
  },
  {
   "cell_type": "markdown",
   "metadata": {},
   "source": [
    "Week 2 Day 3 - Linear Algebra (Eigen Composition)\n",
    "<br>\n",
    "Nama: Karina Utomo\n",
    "<br>\n",
    "Hacktiv8 Full Time Data Science Batch 003"
   ]
  },
  {
   "cell_type": "markdown",
   "metadata": {},
   "source": [
    "# Assignment Instructions"
   ]
  },
  {
   "cell_type": "markdown",
   "metadata": {},
   "source": [
    "Apakah $\\begin{bmatrix}1 \\\\3\\end{bmatrix}$ adalah eigenvector dari $\\begin{bmatrix}1 & -1\\\\6 &-4 \\end{bmatrix}$? Jika iya, berapakah eigenvalue-nya?"
   ]
  },
  {
   "cell_type": "markdown",
   "metadata": {},
   "source": [
    "# Assignment Program"
   ]
  },
  {
   "cell_type": "code",
   "execution_count": 1,
   "metadata": {},
   "outputs": [],
   "source": [
    "import numpy as np\n",
    "import pandas as pd\n",
    "import matplotlib.pyplot as plt"
   ]
  },
  {
   "cell_type": "code",
   "execution_count": 2,
   "metadata": {},
   "outputs": [],
   "source": [
    "A = np.array([\n",
    "    [1, -1],\n",
    "    [6, -4]\n",
    "])"
   ]
  },
  {
   "cell_type": "code",
   "execution_count": 3,
   "metadata": {},
   "outputs": [],
   "source": [
    "v = np.array([1, 3])"
   ]
  },
  {
   "cell_type": "markdown",
   "metadata": {},
   "source": [
    "Untuk mengecek apakah vektor v merupakan eigenvector dari matriks A, akan digunakan persamaan:\n",
    "\n",
    "$$\n",
    "\\mathbf{Av} = \\lambda\\mathbf{v}\n",
    "$$"
   ]
  },
  {
   "cell_type": "code",
   "execution_count": 5,
   "metadata": {},
   "outputs": [
    {
     "data": {
      "text/plain": [
       "array([-2, -6])"
      ]
     },
     "execution_count": 5,
     "metadata": {},
     "output_type": "execute_result"
    }
   ],
   "source": [
    "Av = A@v\n",
    "Av"
   ]
  },
  {
   "cell_type": "markdown",
   "metadata": {},
   "source": [
    "Hasilnya adalah:\n",
    "\n",
    "<center>$\n",
    "\\left[\\begin{matrix}\n",
    "1 & -1 \\\\\n",
    "6 & -4 \n",
    "\\end{matrix}\\right] \\cdot\n",
    "\\left[\\begin{matrix}\n",
    "1 \\\\\n",
    "3\n",
    "\\end{matrix}\\right] =\n",
    "\\left[\\begin{matrix}\n",
    "-2 \\\\\n",
    "-6\n",
    "\\end{matrix}\\right]\n",
    "$</center>"
   ]
  },
  {
   "cell_type": "code",
   "execution_count": 6,
   "metadata": {},
   "outputs": [
    {
     "data": {
      "text/plain": [
       "array([-2, -6])"
      ]
     },
     "execution_count": 6,
     "metadata": {},
     "output_type": "execute_result"
    }
   ],
   "source": [
    "-2 * v"
   ]
  },
  {
   "cell_type": "markdown",
   "metadata": {},
   "source": [
    "Dapat dilihat bahwa:\n",
    "\n",
    "$$\n",
    "-2\\times \\begin{bmatrix}\n",
    "    1\\\\\n",
    "    3\n",
    "\\end{bmatrix} = \\begin{bmatrix}\n",
    "    -2\\\\\n",
    "    -6\n",
    "\\end{bmatrix}\n",
    "$$\n",
    "\n",
    "Artinya vektor v merupakan eigenvector dari matriks A, dengan **eigenvalue** $\\lambda = -2$"
   ]
  },
  {
   "cell_type": "code",
   "execution_count": 7,
   "metadata": {},
   "outputs": [],
   "source": [
    "def plt_vector2d(vector2d, origin=[0, 0], **options):\n",
    "    return plt.arrow(origin[0], origin[1], vector2d[0], vector2d[1],\n",
    "              head_width=0.2, head_length=0.3, length_includes_head=True,\n",
    "              **options)"
   ]
  },
  {
   "cell_type": "code",
   "execution_count": 10,
   "metadata": {},
   "outputs": [
    {
     "data": {
      "image/png": "[encoded data removed]",
      "text/plain": [
       "<Figure size 432x288 with 1 Axes>"
      ]
     },
     "metadata": {
      "needs_background": "light"
     },
     "output_type": "display_data"
    }
   ],
   "source": [
    "plt_vector2d(v, color='gold')\n",
    "plt_vector2d(Av, color='lightskyblue')\n",
    "plt.annotate('Av', (1.05, 3), size = 13, color = 'gold')\n",
    "plt.annotate('v', (-2.3, -6.2), size = 13, color = 'lightskyblue')\n",
    "plt.axis([-3, 4, -7, 7])\n",
    "plt.grid(linestyle = ':')\n",
    "\n",
    "plt.axhline(0, color = 'lightgray')\n",
    "plt.axvline(0, color = 'lightgray')\n",
    "\n",
    "plt.show()"
   ]
  },
  {
   "cell_type": "markdown",
   "metadata": {},
   "source": [
    "Dari plot juga dapat dilihat bahwa garis v merupakan perpanjangan dari garis Av, tanpa adanya perubahan arah vektor"
   ]
  },
  {
   "cell_type": "code",
   "execution_count": null,
   "metadata": {},
   "outputs": [],
   "source": []
  }
 ],
 "metadata": {
  "kernelspec": {
   "display_name": "Python 3",
   "language": "python",
   "name": "python3"
  },
  "language_info": {
   "codemirror_mode": {
    "name": "ipython",
    "version": 3
   },
   "file_extension": ".py",
   "mimetype": "text/x-python",
   "name": "python",
   "nbconvert_exporter": "python",
   "pygments_lexer": "ipython3",
   "version": "3.8.3"
  }
 },
 "nbformat": 4,
 "nbformat_minor": 4
}
